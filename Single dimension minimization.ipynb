{
 "cells": [
  {
   "cell_type": "code",
   "execution_count": 1,
   "metadata": {},
   "outputs": [],
   "source": [
    "import numpy as np\n",
    "import matplotlib.pyplot as plt\n",
    "from IPython.display import display, Math\n",
    "import random\n",
    "from bitarray import bitarray\n",
    "from bitarray.util import int2ba, ba2int"
   ]
  },
  {
   "cell_type": "code",
   "execution_count": 2,
   "metadata": {},
   "outputs": [],
   "source": [
    "random.seed(15)\n",
    "np.random.seed(15)"
   ]
  },
  {
   "cell_type": "markdown",
   "metadata": {},
   "source": [
    "$$\n",
    "f\\left(x_{1}, x_{2}\\right)=\\sin \\left(10 x_{1}\\right)+x_{1} \\cos \\left(2 \\pi x_{2}\\right)\n",
    "$$"
   ]
  },
  {
   "cell_type": "markdown",
   "metadata": {},
   "source": [
    "$$\n",
    "x_{1} \\in[-2,2], x_{2} \\in[0,1]\n",
    "$$"
   ]
  },
  {
   "cell_type": "markdown",
   "metadata": {},
   "source": [
    "$$f \\to min $$"
   ]
  },
  {
   "cell_type": "markdown",
   "metadata": {},
   "source": [
    "### Minimization based on binary individuals"
   ]
  },
  {
   "cell_type": "markdown",
   "metadata": {},
   "source": [
    "## GA for single dimension minimization"
   ]
  },
  {
   "cell_type": "code",
   "execution_count": 3,
   "metadata": {},
   "outputs": [],
   "source": [
    "def plot(f, a, b, x_min=None, delta=0.01):\n",
    "  fig = plt.figure(figsize=(5,5))\n",
    "  ax = fig.add_subplot()\n",
    "\n",
    "  x = np.arange(a, b, (b-a)*delta)\n",
    "  \n",
    "  ax.plot(x, f(x), label='$f(x)$')\n",
    "  if(x_min != None):\n",
    "    f_min = f(x_min)\n",
    "    ax.plot([x_min],[f_min], 'r*', label=r'$f(x) = min $')\n",
    "    display(Math(\n",
    "      r'x^*={},\\\\ f(x^*)={}'\n",
    "      .format(x_min, f(x_min))\n",
    "    ))\n",
    "\n",
    "  plt.ylabel('y')\n",
    "  plt.xlabel('x')\n",
    "  plt.legend()\n",
    "  plt.grid()"
   ]
  },
  {
   "cell_type": "markdown",
   "metadata": {},
   "source": [
    "### Transformation"
   ]
  },
  {
   "cell_type": "code",
   "execution_count": 4,
   "metadata": {},
   "outputs": [],
   "source": [
    "def M(x):\n",
    "  #return (x_interval[1] - x_interval[0]) / (2**n - 1) * ba2int(x) + x_interval[0]\n",
    "  #return h_x * ba2int(x) + x_interval[0]\n",
    "  d = 0\n",
    "  for i, b in enumerate(x):\n",
    "    if b:\n",
    "      d += 2 ** i\n",
    "\n",
    "  return (x_interval[1] - x_interval[0]) / (2 ** n - 1) * d + x_interval[0]"
   ]
  },
  {
   "cell_type": "markdown",
   "metadata": {},
   "source": [
    "### Evaluation"
   ]
  },
  {
   "cell_type": "code",
   "execution_count": 5,
   "metadata": {},
   "outputs": [],
   "source": [
    "def evaluate(x):\n",
    "  return f(M(x))"
   ]
  },
  {
   "cell_type": "code",
   "execution_count": 6,
   "metadata": {},
   "outputs": [],
   "source": [
    "def bestOfPopulationt(population):\n",
    "  scores = [evaluate(x) for x in population]\n",
    "  \n",
    "  best_index = np.argmin(scores)\n",
    "  \n",
    "  return population[best_index], scores[best_index]"
   ]
  },
  {
   "cell_type": "markdown",
   "metadata": {},
   "source": [
    "### Modification"
   ]
  },
  {
   "cell_type": "code",
   "execution_count": 7,
   "metadata": {},
   "outputs": [],
   "source": [
    "def mutate(x):\n",
    "  index = np.random.randint(n)\n",
    "  \n",
    "  mutated = x.copy()\n",
    "  mutated[index] = not mutated[index]\n",
    "  \n",
    "  return mutated"
   ]
  },
  {
   "cell_type": "code",
   "execution_count": 8,
   "metadata": {},
   "outputs": [],
   "source": [
    "def crossbreed(mom, dad):\n",
    "  index = np.random.randint(n)\n",
    "  \n",
    "  return (mom[:index] + dad[index:], dad[:index] + mom[index:])"
   ]
  },
  {
   "cell_type": "markdown",
   "metadata": {},
   "source": [
    "### Selection"
   ]
  },
  {
   "cell_type": "code",
   "execution_count": 9,
   "metadata": {},
   "outputs": [],
   "source": [
    "def cultivateFrom(population: list):\n",
    "  new_population = []\n",
    "  N = len(population)\n",
    "  \n",
    "  for _ in range(N//2):\n",
    "\n",
    "    mom = roundOfTournament(population)\n",
    "    dad = roundOfTournament(population)\n",
    "\n",
    "    if shouldMutate():\n",
    "      mom = mutate(mom)\n",
    "\n",
    "    if shouldMutate():\n",
    "      dad = mutate(dad)\n",
    "\n",
    "    if shouldCross():\n",
    "      mom, dad = crossbreed(mom, dad)\n",
    "\n",
    "    new_population.append(mom)\n",
    "    new_population.append(dad)\n",
    "\n",
    "  return new_population\n",
    "\n",
    "def roundOfTournament(population: list):\n",
    "  participants = random.sample(population, N_t)\n",
    "  \n",
    "  winner, _ = bestOfPopulationt(participants)\n",
    "\n",
    "  return winner\n",
    "\n",
    "def shouldMutate():\n",
    "  return np.random.choice([True, False], p=[p_mutate, 1 - p_mutate])\n",
    "\n",
    "def shouldCross():\n",
    "  return np.random.choice([True, False], p=[p_cross, 1 - p_cross])"
   ]
  },
  {
   "cell_type": "markdown",
   "metadata": {},
   "source": [
    "### Problem"
   ]
  },
  {
   "cell_type": "code",
   "execution_count": 10,
   "metadata": {},
   "outputs": [],
   "source": [
    "# problem definition\n",
    "f = lambda x: x*np.sin(10*np.pi*x) + 1\n",
    "\n",
    "x_interval = [-1, 2]"
   ]
  },
  {
   "cell_type": "code",
   "execution_count": 11,
   "metadata": {},
   "outputs": [
    {
     "data": {
      "text/plain": [
       "22"
      ]
     },
     "execution_count": 11,
     "metadata": {},
     "output_type": "execute_result"
    }
   ],
   "source": [
    "h_x = 1e-6\n",
    "\n",
    "n = len(int2ba(int((x_interval[1] - x_interval[0])/h_x)))\n",
    "n"
   ]
  },
  {
   "cell_type": "code",
   "execution_count": 12,
   "metadata": {},
   "outputs": [],
   "source": [
    "# GA parameters\n",
    "N = 100\n",
    "max_iterations = 30\n",
    "max_iterations_without_evolution = 10\n",
    "p_mutate = 0.9\n",
    "p_cross = 0.5\n",
    "N_t = 3"
   ]
  },
  {
   "cell_type": "markdown",
   "metadata": {},
   "source": [
    "### GA"
   ]
  },
  {
   "cell_type": "code",
   "execution_count": 13,
   "metadata": {},
   "outputs": [
    {
     "data": {
      "text/plain": [
       "(bitarray('1010001110001111011111'), -0.9502597341194818)"
      ]
     },
     "execution_count": 13,
     "metadata": {},
     "output_type": "execute_result"
    }
   ],
   "source": [
    "population = [bitarray(n) for _ in range(N)]\n",
    "iterations_without_evolution = 0\n",
    "best_from_populations = []\n",
    "scores = []\n",
    "best_score = bestOfPopulationt(population)\n",
    "\n",
    "for i in range(max_iterations):\n",
    "\n",
    "  best, population_score = bestOfPopulationt(population)\n",
    "  \n",
    "  best_from_populations.append(best)\n",
    "  scores.append(population_score)\n",
    "  \n",
    "  population = cultivateFrom(population)\n",
    "\n",
    "  \n",
    "all_time_best, minimum = bestOfPopulationt(best_from_populations)\n",
    "\n",
    "(all_time_best, minimum)"
   ]
  },
  {
   "cell_type": "code",
   "execution_count": 14,
   "metadata": {},
   "outputs": [
    {
     "data": {
      "text/latex": [
       "$\\displaystyle x^*=1.9505200268077916,\\\\ f(x^*)=-0.9502597341194818$"
      ],
      "text/plain": [
       "<IPython.core.display.Math object>"
      ]
     },
     "metadata": {},
     "output_type": "display_data"
    },
    {
     "data": {
      "image/png": "[encoded data removed]",
      "text/plain": [
       "<Figure size 360x360 with 1 Axes>"
      ]
     },
     "metadata": {
      "needs_background": "light"
     },
     "output_type": "display_data"
    }
   ],
   "source": [
    "plot(f, x_interval[0], x_interval[1], M(all_time_best), delta=1e-3)"
   ]
  },
  {
   "cell_type": "code",
   "execution_count": 15,
   "metadata": {},
   "outputs": [
    {
     "data": {
      "text/plain": [
       "[<matplotlib.lines.Line2D at 0x1dd138909d0>]"
      ]
     },
     "execution_count": 15,
     "metadata": {},
     "output_type": "execute_result"
    },
    {
     "data": {
      "image/png": "[encoded data removed]",
      "text/plain": [
       "<Figure size 432x288 with 1 Axes>"
      ]
     },
     "metadata": {
      "needs_background": "light"
     },
     "output_type": "display_data"
    }
   ],
   "source": [
    "plt.plot([i for i in range(len(scores))],scores)"
   ]
  },
  {
   "cell_type": "code",
   "execution_count": null,
   "metadata": {},
   "outputs": [],
   "source": []
  }
 ],
 "metadata": {
  "kernelspec": {
   "display_name": "Python 3",
   "language": "python",
   "name": "python3"
  },
  "language_info": {
   "codemirror_mode": {
    "name": "ipython",
    "version": 3
   },
   "file_extension": ".py",
   "mimetype": "text/x-python",
   "name": "python",
   "nbconvert_exporter": "python",
   "pygments_lexer": "ipython3",
   "version": "3.8.2"
  }
 },
 "nbformat": 4,
 "nbformat_minor": 4
}
