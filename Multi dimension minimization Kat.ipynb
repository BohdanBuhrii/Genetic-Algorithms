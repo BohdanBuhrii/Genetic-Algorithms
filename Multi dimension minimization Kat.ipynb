{
 "cells": [
  {
   "cell_type": "code",
   "execution_count": 1,
   "metadata": {},
   "outputs": [],
   "source": [
    "import numpy as np\n",
    "from bitarray.util import int2ba, ba2int"
   ]
  },
  {
   "cell_type": "code",
   "execution_count": 2,
   "metadata": {},
   "outputs": [],
   "source": [
    "from ga.fabrics import BinaryFabric\n",
    "from ga.operators import BinaryOperator, TwoPointOperator\n",
    "from ga.transformers import MultiDimentionTransformer\n",
    "\n",
    "from ga.evaluators import AverageEvaluator\n",
    "from ga.selectors import InbreedingSelector, OutbreedingSelector, PanmixiaSelector, SelectiveSelector\n",
    "from ga.cultivators import RandomCultivator, TotalEliteCultivator, ExpulsionCultivator\n",
    "from ga.algorithms import SimpleGA\n",
    "\n",
    "from helpers.plotting import plotContour, plotScores"
   ]
  },
  {
   "cell_type": "markdown",
   "metadata": {},
   "source": [
    "$$f \\to min $$"
   ]
  },
  {
   "cell_type": "code",
   "execution_count": 3,
   "metadata": {},
   "outputs": [],
   "source": [
    "# Ackley\n",
    "# f = lambda x: -20*np.exp(-0.2*np.sqrt(0.5*(x[0]*x[0]+x[1]*x[1]))) \\\n",
    "#                    -np.exp(0.5*(np.cos(2*np.pi*x[0])+np.cos(2*np.pi*x[1]))) \\\n",
    "#                    +20+np.e\n",
    "\n",
    "# x1_int = [-5, 5]\n",
    "# x2_int = [-5, 5]"
   ]
  },
  {
   "cell_type": "code",
   "execution_count": 4,
   "metadata": {},
   "outputs": [],
   "source": [
    "# # Bukin\n",
    "# f = lambda x: 100*np.sqrt(np.abs(x[1]-0.01*np.power(x[0],2)))+0.01*np.abs(x[0]+10)\n",
    "\n",
    "# x1_int = [-15, -5]\n",
    "# x2_int = [-3, 3]"
   ]
  },
  {
   "cell_type": "code",
   "execution_count": 5,
   "metadata": {},
   "outputs": [],
   "source": [
    "# # Holder\n",
    "f = lambda x: -np.abs(np.sin(x[0])*np.cos(x[1])*np.exp(np.abs(1-(np.sqrt(x[0]*x[0]+x[1]*x[1])/np.pi))))\n",
    "\n",
    "x1_int = [-10, 10]\n",
    "x2_int = [-10, 10]"
   ]
  },
  {
   "cell_type": "code",
   "execution_count": 6,
   "metadata": {},
   "outputs": [],
   "source": [
    "x_ints = [x1_int, x2_int]"
   ]
  },
  {
   "cell_type": "code",
   "execution_count": 7,
   "metadata": {},
   "outputs": [],
   "source": [
    "h_x1 = 1e-7\n",
    "h_x2 = 1e-5\n",
    "\n",
    "n_x1 = len(int2ba(int((x1_int[1] - x1_int[0])/h_x1)))\n",
    "n_x2 = len(int2ba(int((x2_int[1] - x2_int[0])/h_x2)))\n",
    "\n",
    "n_xs = [n_x1, n_x2]\n",
    "\n",
    "n = sum(n_xs)"
   ]
  },
  {
   "cell_type": "code",
   "execution_count": 8,
   "metadata": {},
   "outputs": [],
   "source": [
    "N = 100\n",
    "max_iterations = 100\n",
    "p_mutate = 0.6\n",
    "epsilon = 1e-9\n",
    "delta = 1e-9"
   ]
  },
  {
   "cell_type": "code",
   "execution_count": null,
   "metadata": {},
   "outputs": [],
   "source": []
  },
  {
   "cell_type": "code",
   "execution_count": 9,
   "metadata": {},
   "outputs": [],
   "source": [
    "fabric = BinaryFabric(n)\n",
    "\n",
    "operator = BinaryOperator(n)\n",
    "#operator = TwoPointOperator(n)\n",
    "\n",
    "transformer = MultiDimentionTransformer(n_xs, x_ints)\n",
    "\n",
    "evaluator = AverageEvaluator(f, transformer)\n",
    "\n",
    "def distance_e(a, b):\n",
    "  return np.linalg.norm(np.array(transformer.transform(a)) - np.array(transformer.transform(b)))\n",
    "\n",
    "def distance_h(a, b):\n",
    "  dist = 0\n",
    "  for i, j in zip(a, b):\n",
    "    if i != j:\n",
    "      dist += 1\n",
    "  \n",
    "  return dist\n",
    "\n",
    "# selector = InbreedingSelector(distance_e)\n",
    "selector = OutbreedingSelector(distance_h)\n",
    "# selector = PanmixiaSelector()\n",
    "# selector = SelectiveSelector(evaluator)\n",
    "\n",
    "#cultivator = RandomCultivator(selector, operator, p_mutate)\n",
    "#cultivator = TotalEliteCultivator(selector, operator, evaluator, p_mutate)\n",
    "cultivator = ExpulsionCultivator(selector, operator, evaluator, p_mutate)\n",
    "\n",
    "ga = SimpleGA(fabric, evaluator, transformer, cultivator)"
   ]
  },
  {
   "cell_type": "code",
   "execution_count": 10,
   "metadata": {},
   "outputs": [
    {
     "name": "stdout",
     "output_type": "stream",
     "text": [
      "0%\n",
      "10%\n",
      "20%\n",
      "30%\n",
      "40%\n",
      "50%\n",
      "60%\n",
      "70%\n",
      "80%\n"
     ]
    },
    {
     "data": {
      "text/plain": [
       "([8.055023469235834, 9.664583046237492], -19.208502567396657)"
      ]
     },
     "execution_count": 10,
     "metadata": {},
     "output_type": "execute_result"
    }
   ],
   "source": [
    "ga.solve(N, max_iterations, epsilon, delta)"
   ]
  },
  {
   "cell_type": "code",
   "execution_count": 11,
   "metadata": {},
   "outputs": [
    {
     "data": {
      "image/png": "[encoded data removed]",
      "text/plain": [
       "<Figure size 504x288 with 2 Axes>"
      ]
     },
     "metadata": {
      "needs_background": "light"
     },
     "output_type": "display_data"
    },
    {
     "data": {
      "image/png": "[encoded data removed]",
      "text/plain": [
       "<Figure size 432x288 with 1 Axes>"
      ]
     },
     "metadata": {
      "needs_background": "light"
     },
     "output_type": "display_data"
    }
   ],
   "source": [
    "plotContour(lambda x1, x2: f([x1, x2]), x1_int, x2_int, argmin=ga.solution)\n",
    "\n",
    "plotScores(ga.scores)"
   ]
  },
  {
   "cell_type": "code",
   "execution_count": 12,
   "metadata": {},
   "outputs": [],
   "source": [
    "#ga.best_from_populations"
   ]
  },
  {
   "cell_type": "code",
   "execution_count": null,
   "metadata": {},
   "outputs": [],
   "source": []
  }
 ],
 "metadata": {
  "kernelspec": {
   "display_name": "Python 3",
   "language": "python",
   "name": "python3"
  },
  "language_info": {
   "codemirror_mode": {
    "name": "ipython",
    "version": 3
   },
   "file_extension": ".py",
   "mimetype": "text/x-python",
   "name": "python",
   "nbconvert_exporter": "python",
   "pygments_lexer": "ipython3",
   "version": "3.9.7"
  },
  "vscode": {
   "interpreter": {
    "hash": "89957a983993c4a9c144f61af9c076707dd02d3d0f57463a5cf1f28e6923b25d"
   }
  }
 },
 "nbformat": 4,
 "nbformat_minor": 4
}
