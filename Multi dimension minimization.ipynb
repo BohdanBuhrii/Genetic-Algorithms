{
 "cells": [
  {
   "cell_type": "code",
   "execution_count": 1,
   "metadata": {},
   "outputs": [],
   "source": [
    "import numpy as np\n",
    "import matplotlib.pyplot as plt\n",
    "from IPython.display import display, Math\n",
    "import random\n",
    "from bitarray import bitarray\n",
    "from bitarray.util import int2ba, ba2int"
   ]
  },
  {
   "cell_type": "code",
   "execution_count": 2,
   "metadata": {},
   "outputs": [],
   "source": [
    "random.seed(15)\n",
    "np.random.seed(15)"
   ]
  },
  {
   "cell_type": "markdown",
   "metadata": {},
   "source": [
    "$$\n",
    "f\\left(x_{1}, x_{2}\\right)=\\sin \\left(10 x_{1}\\right)+x_{1} \\cos \\left(2 \\pi x_{2}\\right)\n",
    "$$"
   ]
  },
  {
   "cell_type": "markdown",
   "metadata": {},
   "source": [
    "$$\n",
    "x_{1} \\in[-2,2], x_{2} \\in[0,1]\n",
    "$$"
   ]
  },
  {
   "cell_type": "markdown",
   "metadata": {},
   "source": [
    "$$f \\to min $$"
   ]
  },
  {
   "cell_type": "markdown",
   "metadata": {},
   "source": [
    "### Minimization based on binary individuals"
   ]
  },
  {
   "cell_type": "markdown",
   "metadata": {},
   "source": [
    "## GA for single dimension minimization"
   ]
  },
  {
   "cell_type": "markdown",
   "metadata": {},
   "source": [
    "### Transformation"
   ]
  },
  {
   "cell_type": "code",
   "execution_count": null,
   "metadata": {},
   "outputs": [],
   "source": []
  },
  {
   "cell_type": "markdown",
   "metadata": {},
   "source": [
    "### Evaluation"
   ]
  },
  {
   "cell_type": "code",
   "execution_count": 3,
   "metadata": {},
   "outputs": [],
   "source": [
    "# ready\n",
    "def bestOfPopulationt(population):\n",
    "  scores = [evaluate(x) for x in population]\n",
    "  \n",
    "  best_index = np.argmin(scores)\n",
    "  \n",
    "  return population[best_index], scores[best_index]"
   ]
  },
  {
   "cell_type": "markdown",
   "metadata": {},
   "source": [
    "### Modification"
   ]
  },
  {
   "cell_type": "code",
   "execution_count": 4,
   "metadata": {},
   "outputs": [],
   "source": [
    "# ready\n",
    "def mutate(x):\n",
    "  index = np.random.randint(n)\n",
    "  \n",
    "  mutated = x.copy()\n",
    "  mutated[index] = not mutated[index]\n",
    "  \n",
    "  return mutated"
   ]
  },
  {
   "cell_type": "code",
   "execution_count": 5,
   "metadata": {},
   "outputs": [],
   "source": [
    "# ready\n",
    "def crossbreed(mom, dad):\n",
    "  index = np.random.randint(n)\n",
    "  \n",
    "  return (mom[:index] + dad[index:], dad[:index] + mom[index:])"
   ]
  },
  {
   "cell_type": "markdown",
   "metadata": {},
   "source": [
    "### Selection"
   ]
  },
  {
   "cell_type": "code",
   "execution_count": 6,
   "metadata": {},
   "outputs": [],
   "source": [
    "# ready\n",
    "def cultivateFrom(population: list):\n",
    "  new_population = []\n",
    "  N = len(population)\n",
    "  \n",
    "  for _ in range(N//2):\n",
    "\n",
    "    mom = roundOfTournament(population)\n",
    "    dad = roundOfTournament(population)\n",
    "\n",
    "    if shouldMutate():\n",
    "      mom = mutate(mom)\n",
    "      dad = mutate(dad)\n",
    "\n",
    "    if shouldCross():\n",
    "      mom, dad = crossbreed(mom, dad)\n",
    "\n",
    "    new_population.append(mom)\n",
    "    new_population.append(dad)\n",
    "\n",
    "  return new_population\n",
    "\n",
    "# ready\n",
    "def roundOfTournament(population: list):\n",
    "  participants = random.sample(population, N_t)\n",
    "  \n",
    "  winner, _ = bestOfPopulationt(participants)\n",
    "\n",
    "  return winner\n",
    "\n",
    "# ready\n",
    "def shouldMutate():\n",
    "  return np.random.choice([True, False], p=[p_mutate, 1 - p_mutate])\n",
    "\n",
    "# ready\n",
    "def shouldCross():\n",
    "  return np.random.choice([True, False], p=[p_cross, 1 - p_cross])"
   ]
  },
  {
   "cell_type": "markdown",
   "metadata": {},
   "source": [
    "### Problem"
   ]
  },
  {
   "cell_type": "markdown",
   "metadata": {},
   "source": [
    "$$\n",
    "f\\left(x_{1}, x_{2}\\right)=\\sin \\left(10 x_{1}\\right)+x_{1} \\cos \\left(2 \\pi x_{2}\\right)\n",
    "$$"
   ]
  },
  {
   "cell_type": "markdown",
   "metadata": {},
   "source": [
    "$$\n",
    "x_{1} \\in[-2,2], x_{2} \\in[0,1]\n",
    "$$"
   ]
  },
  {
   "cell_type": "code",
   "execution_count": 7,
   "metadata": {},
   "outputs": [],
   "source": [
    "def plotContour(f, argmin=None, mesh_step=50):\n",
    "  x = np.linspace(x1_int[0], x1_int[1], mesh_step)\n",
    "  y = np.linspace(x2_int[0], x2_int[1], mesh_step)\n",
    "  \n",
    "  X, Y = np.meshgrid(x, y)\n",
    "  Z = f(X,Y)\n",
    "  \n",
    "  fig = plt.figure(figsize=(7,4))\n",
    "  ax = fig.add_subplot()\n",
    "  \n",
    "  cs = ax.contourf(X, Y, Z)\n",
    "\n",
    "  cbar = fig.colorbar(cs)\n",
    "\n",
    "  if(argmin != None):\n",
    "    f_min = f(*argmin)\n",
    "    ax.plot([argmin[0]], [argmin[1]], 'r*', label=r'$f(x) = min $')\n",
    "  \n",
    "  plt.show()"
   ]
  },
  {
   "cell_type": "code",
   "execution_count": 8,
   "metadata": {},
   "outputs": [],
   "source": [
    "f = lambda x1, x2: np.sin(10*x1) + x1*np.cos(2*np.pi*x2)\n",
    "\n",
    "x1_int = [-2, 2]\n",
    "x2_int = [0.2, 0.8]\n",
    "#x2_int = [0, 1]"
   ]
  },
  {
   "cell_type": "code",
   "execution_count": 9,
   "metadata": {},
   "outputs": [
    {
     "data": {
      "text/plain": [
       "35"
      ]
     },
     "execution_count": 9,
     "metadata": {},
     "output_type": "execute_result"
    }
   ],
   "source": [
    "h_x1 = 1e-5\n",
    "h_x2 = 1e-5\n",
    "\n",
    "n_x1 = len(int2ba(int((x1_int[1] - x1_int[0])/h_x1)))\n",
    "n_x2 = len(int2ba(int((x2_int[1] - x2_int[0])/h_x2)))\n",
    "\n",
    "n = n_x1 + n_x2\n",
    "n"
   ]
  },
  {
   "cell_type": "code",
   "execution_count": 10,
   "metadata": {},
   "outputs": [],
   "source": [
    "n_xs = [n_x1, n_x2]\n",
    "x_ints = [x1_int, x2_int]"
   ]
  },
  {
   "cell_type": "code",
   "execution_count": 11,
   "metadata": {},
   "outputs": [],
   "source": [
    "# GA parameters\n",
    "N = 1000\n",
    "max_iterations = 50\n",
    "max_iterations_without_evolution = 10\n",
    "p_mutate = 0.9\n",
    "p_cross = 0.5\n",
    "N_t = 3"
   ]
  },
  {
   "cell_type": "markdown",
   "metadata": {},
   "source": [
    "### GA"
   ]
  },
  {
   "cell_type": "code",
   "execution_count": 12,
   "metadata": {},
   "outputs": [],
   "source": [
    "# ready\n",
    "# changed\n",
    "def evaluate(x):\n",
    "  #print(M(x, [n_x1, n_x2], [x1_int, x2_int]))\n",
    "  return f(*M(x, n_xs, x_ints))"
   ]
  },
  {
   "cell_type": "code",
   "execution_count": 13,
   "metadata": {},
   "outputs": [],
   "source": [
    "# changed\n",
    "def M(x, n_xs: list, x_ints: list):\n",
    "\n",
    "  xs = []\n",
    "  pointer = 0\n",
    "  \n",
    "  for n_xi, x_inti in zip(n_xs, x_ints):\n",
    "    xs.append(M_single(x[pointer:pointer+n_xi], x_inti))\n",
    "    \n",
    "    # len xi\n",
    "    pointer += n_xi\n",
    "  \n",
    "  return xs\n",
    "\n",
    "# new\n",
    "def M_single(x, x_int):\n",
    "\n",
    "  #return (x_interval[1] - x_interval[0]) / (2**n - 1) * ba2int(x) + x_interval[0]\n",
    "  #return h_x * ba2int(x) + x_interval[0]\n",
    "  d = 0\n",
    "  for i, b in enumerate(x):\n",
    "    if b:\n",
    "      d += 2 ** i\n",
    "\n",
    "  return (x_int[1] - x_int[0]) / (2 ** len(x) - 1) * d + x_int[0]"
   ]
  },
  {
   "cell_type": "code",
   "execution_count": 14,
   "metadata": {},
   "outputs": [
    {
     "name": "stdout",
     "output_type": "stream",
     "text": [
      "0\n",
      "1\n",
      "2\n",
      "3\n",
      "4\n",
      "5\n",
      "6\n",
      "7\n",
      "8\n",
      "9\n",
      "10\n",
      "11\n",
      "12\n",
      "13\n",
      "14\n",
      "15\n",
      "16\n",
      "17\n",
      "18\n",
      "19\n",
      "20\n",
      "21\n",
      "22\n",
      "23\n",
      "24\n",
      "25\n",
      "26\n",
      "27\n",
      "28\n"
     ]
    },
    {
     "data": {
      "text/plain": [
       "(bitarray('00000000000000011111111111111111110'), -2.725617459220487)"
      ]
     },
     "execution_count": 14,
     "metadata": {},
     "output_type": "execute_result"
    }
   ],
   "source": [
    "population = [bitarray(n) for _ in range(N)]\n",
    "iterations_without_evolution = 0\n",
    "best_from_populations = []\n",
    "scores = []\n",
    "best_score = bestOfPopulationt(population)\n",
    "\n",
    "for i in range(max_iterations):\n",
    "\n",
    "  print(i)\n",
    "  \n",
    "  best, population_score = bestOfPopulationt(population)\n",
    "  \n",
    "  if scores != [] and np.abs(scores[-1] - population_score) < 1e-5:\n",
    "    iterations_without_evolution += 1\n",
    "  else:\n",
    "    iterations_without_evolution = 0\n",
    "  \n",
    "  best_from_populations.append(best)\n",
    "  scores.append(population_score)\n",
    "  \n",
    "  \n",
    "  if iterations_without_evolution >= max_iterations_without_evolution:\n",
    "    break\n",
    "  \n",
    "  population = cultivateFrom(population)\n",
    "\n",
    "  \n",
    "all_time_best, minimum = bestOfPopulationt(best_from_populations)\n",
    "\n",
    "(all_time_best, minimum)"
   ]
  },
  {
   "cell_type": "code",
   "execution_count": 15,
   "metadata": {},
   "outputs": [
    {
     "data": {
      "text/plain": [
       "[1.7500071525710155, 0.4999954222934311]"
      ]
     },
     "execution_count": 15,
     "metadata": {},
     "output_type": "execute_result"
    }
   ],
   "source": [
    "M(all_time_best, n_xs, x_ints)"
   ]
  },
  {
   "cell_type": "code",
   "execution_count": 16,
   "metadata": {},
   "outputs": [
    {
     "data": {
      "image/png": "[encoded data removed]",
      "text/plain": [
       "<Figure size 504x288 with 2 Axes>"
      ]
     },
     "metadata": {
      "needs_background": "light"
     },
     "output_type": "display_data"
    }
   ],
   "source": [
    "plotContour(f, argmin=M(all_time_best, n_xs, x_ints))"
   ]
  },
  {
   "cell_type": "code",
   "execution_count": 17,
   "metadata": {},
   "outputs": [
    {
     "data": {
      "text/plain": [
       "[<matplotlib.lines.Line2D at 0x1c2a7f63040>]"
      ]
     },
     "execution_count": 17,
     "metadata": {},
     "output_type": "execute_result"
    },
    {
     "data": {
      "image/png": "[encoded data removed]",
      "text/plain": [
       "<Figure size 432x288 with 1 Axes>"
      ]
     },
     "metadata": {
      "needs_background": "light"
     },
     "output_type": "display_data"
    }
   ],
   "source": [
    "plt.plot(scores)"
   ]
  },
  {
   "cell_type": "code",
   "execution_count": null,
   "metadata": {},
   "outputs": [],
   "source": []
  }
 ],
 "metadata": {
  "kernelspec": {
   "display_name": "Python 3",
   "language": "python",
   "name": "python3"
  },
  "language_info": {
   "codemirror_mode": {
    "name": "ipython",
    "version": 3
   },
   "file_extension": ".py",
   "mimetype": "text/x-python",
   "name": "python",
   "nbconvert_exporter": "python",
   "pygments_lexer": "ipython3",
   "version": "3.8.2"
  }
 },
 "nbformat": 4,
 "nbformat_minor": 4
}
