{
 "cells": [
  {
   "cell_type": "code",
   "execution_count": null,
   "id": "bc830482",
   "metadata": {},
   "outputs": [],
   "source": [
    "import numpy as np\n",
    "import matplotlib.pyplot as plt\n",
    "from scipy.stats import norm\n",
    "from scipy.spatial.distance import cdist\n",
    "from IPython.display import display, Math"
   ]
  },
  {
   "cell_type": "code",
   "execution_count": null,
   "id": "eb3fb680",
   "metadata": {},
   "outputs": [],
   "source": [
    "def generatePopulation(n, p, q):\n",
    "    return np.concatenate((\n",
    "        p[0] + np.random.rand(1,n) * abs(p[0]-p[1]),\n",
    "        q[0] + np.random.rand(1,n) * abs(q[0]-q[1])))\n",
    "\n",
    "generatePopulation(5, [0, 1], [-100, 0])"
   ]
  },
  {
   "cell_type": "code",
   "execution_count": null,
   "id": "93d1f154",
   "metadata": {},
   "outputs": [],
   "source": [
    "def triangle_center(tri):\n",
    "    return np.array([(tri[0][0] + tri[1][0] + tri[2][0]) / 3,\n",
    "                     (tri[0][1] + tri[1][1] + tri[2][1]) / 3])"
   ]
  },
  {
   "cell_type": "code",
   "execution_count": null,
   "id": "13bf0acf",
   "metadata": {},
   "outputs": [],
   "source": [
    "def plot_triangle(triangle):\n",
    "    plt.plot(*np.array(triangle).T, 'o', color='blue')\n",
    "    plt.plot(*triangle_center(triangle), '*', color='red')"
   ]
  },
  {
   "cell_type": "code",
   "execution_count": null,
   "id": "138cec4c",
   "metadata": {},
   "outputs": [],
   "source": [
    "triangle = [[1,1], [0,0], [2,-1]]\n",
    "\n",
    "plot_triangle(triangle)\n",
    "plt.show()"
   ]
  },
  {
   "cell_type": "code",
   "execution_count": null,
   "id": "74141c6c",
   "metadata": {},
   "outputs": [],
   "source": [
    "def dist2D(p):\n",
    "    dist = 0\n",
    "    for k in p:\n",
    "        for l in p:\n",
    "            new_dist = np.linalg.norm(k - l)\n",
    "            if new_dist > dist:\n",
    "                dist = new_dist\n",
    "    \n",
    "    return dist"
   ]
  },
  {
   "cell_type": "code",
   "execution_count": null,
   "id": "ce24c4ec",
   "metadata": {},
   "outputs": [],
   "source": [
    "def plotContour(f, x1_int, x2_int, argmin=None, mesh_n=50):\n",
    "    f_ = lambda x1, x2: f([x1, x2])\n",
    "    \n",
    "    x = np.linspace(x1_int[0], x1_int[1], mesh_n)\n",
    "    y = np.linspace(x2_int[0], x2_int[1], mesh_n)\n",
    "\n",
    "    X, Y = np.meshgrid(x, y)\n",
    "    Z = f_(X, Y)\n",
    "\n",
    "    fig = plt.figure(figsize=(7, 4))\n",
    "    ax = fig.add_subplot()\n",
    "\n",
    "    cs = ax.contourf(X, Y, Z)\n",
    "\n",
    "    fig.colorbar(cs)\n",
    "\n",
    "    if(argmin != None):\n",
    "        ax.plot([argmin[0]], [argmin[1]], 'r*', label=r'$f(x) = min $')\n",
    "\n",
    "    plt.show()"
   ]
  },
  {
   "cell_type": "markdown",
   "id": "f6ba819c",
   "metadata": {},
   "source": [
    "# Ackley\n",
    "f = lambda x: -20*np.exp(-0.2*np.sqrt(0.5*(x[0]*x[0]+x[1]*x[1]))) \\\n",
    "                   -np.exp(0.5*(np.cos(2*np.pi*x[0])+np.cos(2*np.pi*x[1]))) \\\n",
    "                   +20+np.e\n",
    "\n",
    "p = q = [-5, 5]"
   ]
  },
  {
   "cell_type": "markdown",
   "id": "143b790a",
   "metadata": {},
   "source": [
    "# Bukin6\n",
    "f = lambda x: 100*np.sqrt(np.abs(x[1]-0.01*np.power(x[0],2)))+0.01*np.abs(x[0]+10)\n",
    "\n",
    "p = [-15, 5]\n",
    "q = [-3, 3]"
   ]
  },
  {
   "cell_type": "code",
   "execution_count": null,
   "id": "89b5139c",
   "metadata": {},
   "outputs": [],
   "source": [
    "# Holder\n",
    "f = lambda x: -np.abs(np.sin(x[0])*np.cos(x[1])*np.exp(np.abs(1-(np.sqrt(x[0]*x[0]+x[1]*x[1])/np.pi))))\n",
    "\n",
    "p = q = [-10, 10]"
   ]
  },
  {
   "cell_type": "code",
   "execution_count": null,
   "id": "50d37e0a",
   "metadata": {},
   "outputs": [],
   "source": [
    "plotContour(f, p, q)"
   ]
  },
  {
   "cell_type": "code",
   "execution_count": null,
   "id": "38c3f3cb",
   "metadata": {},
   "outputs": [],
   "source": [
    "n = 600\n",
    "max_iter = 100\n",
    "eps = 1e-6\n",
    "delta = 1e-9\n",
    "a = 3\n",
    "alpha = np.pi/4"
   ]
  },
  {
   "cell_type": "code",
   "execution_count": null,
   "id": "5610983f",
   "metadata": {},
   "outputs": [],
   "source": [
    "Pt = generatePopulation(n, p, q)\n",
    "Pt"
   ]
  },
  {
   "cell_type": "code",
   "execution_count": null,
   "id": "7eb09192",
   "metadata": {},
   "outputs": [],
   "source": [
    "Ft = f(Pt)\n",
    "Ft"
   ]
  },
  {
   "cell_type": "code",
   "execution_count": null,
   "id": "d13842a4",
   "metadata": {},
   "outputs": [],
   "source": [
    "t = 0\n",
    "Pt = generatePopulation(n, p, q)\n",
    "while True:\n",
    "    #S3\n",
    "\n",
    "    # ------------------------------ Pz -----------------------------------\n",
    "    np.random.shuffle(Pt)\n",
    "    Ft = f(Pt)\n",
    "    \n",
    "    #print(Pt.shape)\n",
    "    #print(dist2D(Pt))\n",
    "    #print(dist2D(Ft))\n",
    "    #print(t)\n",
    "    \n",
    "    if t == max_iter or dist2D(Pt) < eps or dist2D(Ft) < delta:\n",
    "        print(\"t = \", t)\n",
    "        print(np.min(Ft), \"in the point\", Pt[:,np.argmin(Ft)])\n",
    "        x_min = Pt[:,np.argmin(Ft)]\n",
    "        break\n",
    "    \n",
    "    to_triangles = lambda p: p.reshape(int(n/3), 3, 2).copy()\n",
    "    to_points = lambda triangles: triangles.reshape(n,2).T.copy()\n",
    "    \n",
    "    \n",
    "    triangles = to_triangles(Pt)\n",
    "    \n",
    "    for tri in triangles:\n",
    "        #print(t)\n",
    "        tFt = f(tri.T) #S2\n",
    "        #print(tFt)\n",
    "        center = triangle_center(tri) #S4\n",
    "        \n",
    "        best_index = np.argmax(tFt) #S5\n",
    "        #print(t[best_index])\n",
    "\n",
    "        for i in range(3):\n",
    "            if i == best_index:\n",
    "                tri[i] = (1 + a)*tri[i] - a*center #S6\n",
    "            else:\n",
    "                tri[i] = (tri[best_index] + a*tri[i])/(1+a) #S7\n",
    "        \n",
    "        #print(t)\n",
    "        \n",
    "        #plot_triangle(t)\n",
    "    #plt.show()\n",
    "    #print(triangles)\n",
    "    Pz = to_points(triangles)\n",
    "    #print(Pz)\n",
    "    np.random.shuffle(Pz)\n",
    "    # ------------------------------ Pw -----------------------------------\n",
    "    #S8\n",
    "    triangles = to_triangles(Pz)\n",
    "    \n",
    "    for tri in triangles:\n",
    "        center = triangle_center(tri)\n",
    "        for i in range(3):\n",
    "            tri[i][0] = (tri[i][0] - center[0])*np.cos(alpha) - (tri[i][1] - center[1])*np.sin(alpha) + center[0]\n",
    "            tri[i][1] = (tri[i][0] - center[0])*np.sin(alpha) + (tri[i][1] - center[1])*np.cos(alpha) + center[1]\n",
    "            \n",
    "    Pw = to_points(triangles)\n",
    "    \n",
    "    #assert(False)\n",
    "    \n",
    "    # ----------------------------- P --------------------------------------\n",
    "    P = np.concatenate((Pt, Pz, Pw), axis=1)\n",
    "    \n",
    "    #print(p, q)\n",
    "    #print(np.clip(P[0], p[0], p[1]))\n",
    "    P[0] = np.clip(P[0], q[0], q[1])\n",
    "    #print(P[0])\n",
    "    P[1] = np.clip(P[1], p[0], p[1])\n",
    "    # keep points in the domain\n",
    "    P\n",
    "    \n",
    "    #print(P.shape)\n",
    "    F = f(P)\n",
    "    #print(F.shape)\n",
    "    \n",
    "    sorted_index = np.argsort(F)\n",
    "    Pt = P[:,sorted_index[:n]] #min\n",
    "    #Pt = P[:,sorted_index[-n:]] #max\n",
    "    #print(Pt.shape)\n",
    "    t += 1\n",
    "    if t % 20 == 0: print(t)\n"
   ]
  },
  {
   "cell_type": "code",
   "execution_count": null,
   "id": "395806d9",
   "metadata": {},
   "outputs": [],
   "source": [
    "plotContour(f, p, q, x_min.tolist())"
   ]
  },
  {
   "cell_type": "code",
   "execution_count": null,
   "id": "1ab8ec71",
   "metadata": {},
   "outputs": [],
   "source": []
  }
 ],
 "metadata": {
  "kernelspec": {
   "display_name": "Python 3",
   "language": "python",
   "name": "python3"
  },
  "language_info": {
   "codemirror_mode": {
    "name": "ipython",
    "version": 3
   },
   "file_extension": ".py",
   "mimetype": "text/x-python",
   "name": "python",
   "nbconvert_exporter": "python",
   "pygments_lexer": "ipython3",
   "version": "3.9.7 (tags/v3.9.7:1016ef3, Aug 30 2021, 20:19:38) [MSC v.1929 64 bit (AMD64)]"
  },
  "vscode": {
   "interpreter": {
    "hash": "89957a983993c4a9c144f61af9c076707dd02d3d0f57463a5cf1f28e6923b25d"
   }
  }
 },
 "nbformat": 4,
 "nbformat_minor": 5
}
