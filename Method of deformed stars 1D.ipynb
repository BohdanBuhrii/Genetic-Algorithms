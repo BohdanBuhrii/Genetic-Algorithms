{
 "cells": [
  {
   "cell_type": "code",
   "execution_count": 1,
   "id": "bc830482",
   "metadata": {},
   "outputs": [],
   "source": [
    "import numpy as np\n",
    "import matplotlib.pyplot as plt\n",
    "from scipy.stats import norm\n",
    "from scipy.spatial.distance import cdist\n",
    "from IPython.display import display, Math"
   ]
  },
  {
   "cell_type": "code",
   "execution_count": 2,
   "id": "eb3fb680",
   "metadata": {},
   "outputs": [
    {
     "data": {
      "text/plain": [
       "array([1.04950821, 1.49065279, 1.21522285, 2.53924768, 2.65689714])"
      ]
     },
     "execution_count": 2,
     "metadata": {},
     "output_type": "execute_result"
    }
   ],
   "source": [
    "def generatePopulation(n, a, b):\n",
    "    return a + np.random.rand(n) * abs(a-b)\n",
    "\n",
    "generatePopulation(5, 1, 3)"
   ]
  },
  {
   "cell_type": "code",
   "execution_count": 3,
   "id": "74141c6c",
   "metadata": {},
   "outputs": [],
   "source": [
    "def dist1D(p):\n",
    "    dist = 0\n",
    "    for k in p:\n",
    "        for l in p:\n",
    "            new_dist = abs(k-l)\n",
    "            if new_dist > dist:\n",
    "                dist = new_dist\n",
    "    \n",
    "    return dist"
   ]
  },
  {
   "cell_type": "code",
   "execution_count": 4,
   "id": "c0af29b9",
   "metadata": {},
   "outputs": [
    {
     "data": {
      "text/plain": [
       "-1.3173754987904824"
      ]
     },
     "execution_count": 4,
     "metadata": {},
     "output_type": "execute_result"
    }
   ],
   "source": [
    "f = lambda x: np.power(x - 1, 2)*np.sin(10*x)/x\n",
    "f(3)"
   ]
  },
  {
   "cell_type": "code",
   "execution_count": 5,
   "id": "38c3f3cb",
   "metadata": {},
   "outputs": [],
   "source": [
    "n = 10\n",
    "a, b = -3, 3\n",
    "max_iter = 100\n",
    "eps = 1e-3\n",
    "delta = 1e-5\n",
    "\n",
    "Pt = generatePopulation(n, a, b)\n",
    "Ft = f(Pt)"
   ]
  },
  {
   "cell_type": "code",
   "execution_count": 6,
   "id": "5f2e0f4a",
   "metadata": {},
   "outputs": [
    {
     "data": {
      "text/plain": [
       "array([-1.21025377,  0.86388035])"
      ]
     },
     "execution_count": 6,
     "metadata": {},
     "output_type": "execute_result"
    }
   ],
   "source": [
    "hi = lambda n : norm(0, (b-a)/10).rvs(size=n)\n",
    "hi(2)"
   ]
  },
  {
   "cell_type": "code",
   "execution_count": 7,
   "id": "d13842a4",
   "metadata": {},
   "outputs": [
    {
     "name": "stdout",
     "output_type": "stream",
     "text": [
      "t =  9\n",
      "min equal to 10.58 in the point -0.06\n"
     ]
    }
   ],
   "source": [
    "t = 0\n",
    "#S2\n",
    "Pt = generatePopulation(n, a, b)\n",
    "while True:\n",
    "    #S3\n",
    "    Ft = f(Pt)\n",
    "    \n",
    "    if t == max_iter or dist1D(Pt) < eps or dist1D(Ft) < delta:\n",
    "        print(\"t = \", t)\n",
    "        print(\"min equal to {:.2f} in the point {:.2f}\".format(Ft[0],Pt[0]))\n",
    "        x_min = Pt[0]\n",
    "        break\n",
    "    \n",
    "    #S4\n",
    "    Pz = Pt + hi(n)\n",
    "    Pz = np.array([xz + b - a if xz < a else xz + a - b if xz > b else xz for xz in Pz])\n",
    "    Fz = f(Pz)\n",
    "    #S5\n",
    "    Ps = (np.random.choice(Pt, size=n) + np.random.choice(Pt, size=n))/2\n",
    "    Fs = f(Ps)\n",
    "    #S6\n",
    "    P = np.concatenate((Pt, Pz, Ps))\n",
    "    F = np.concatenate((Ft, Fz, Fs))\n",
    "    #S7\n",
    "    sorted_index = np.argsort(F)\n",
    "    #Pt = P[sorted_index[:n]] #min\n",
    "    Pt = P[sorted_index[-n:]] #max\n",
    "    t += 1\n",
    "    \n"
   ]
  },
  {
   "cell_type": "code",
   "execution_count": 8,
   "id": "e1210fa0",
   "metadata": {},
   "outputs": [],
   "source": [
    "def plot(f, a, b, x_min=None, delta=0.01):\n",
    "    fig = plt.figure(figsize=(5,5))\n",
    "    ax = fig.add_subplot()\n",
    "\n",
    "    x = np.arange(a, b, (b-a)*delta)\n",
    "\n",
    "    ax.plot(x, f(x), label='$f(x)$')\n",
    "    if(x_min != None):\n",
    "        f_min = f(x_min)\n",
    "        ax.plot([x_min],[f_min], 'r*', label=r'$f(x) = min $')\n",
    "        display(Math(r'x^*={},\\\\ f(x^*)={}'.format(x_min, f(x_min))))\n",
    "\n",
    "    plt.ylabel('y')\n",
    "    plt.xlabel('x')\n",
    "    plt.legend()\n",
    "    plt.grid()"
   ]
  },
  {
   "cell_type": "code",
   "execution_count": 9,
   "id": "0dacf11a",
   "metadata": {},
   "outputs": [
    {
     "data": {
      "text/latex": [
       "$\\displaystyle x^*=-0.05507235287502282,\\\\ f(x^*)=10.57754400712995$"
      ],
      "text/plain": [
       "<IPython.core.display.Math object>"
      ]
     },
     "metadata": {},
     "output_type": "display_data"
    },
    {
     "data": {
      "image/png": "[encoded data removed]",
      "text/plain": [
       "<Figure size 360x360 with 1 Axes>"
      ]
     },
     "metadata": {
      "needs_background": "light"
     },
     "output_type": "display_data"
    }
   ],
   "source": [
    "plot(f, a, b, x_min)"
   ]
  },
  {
   "cell_type": "code",
   "execution_count": null,
   "id": "c1cfa39e",
   "metadata": {},
   "outputs": [],
   "source": []
  }
 ],
 "metadata": {
  "kernelspec": {
   "display_name": "Python 3",
   "language": "python",
   "name": "python3"
  },
  "language_info": {
   "codemirror_mode": {
    "name": "ipython",
    "version": 3
   },
   "file_extension": ".py",
   "mimetype": "text/x-python",
   "name": "python",
   "nbconvert_exporter": "python",
   "pygments_lexer": "ipython3",
   "version": "3.9.7 (tags/v3.9.7:1016ef3, Aug 30 2021, 20:19:38) [MSC v.1929 64 bit (AMD64)]"
  },
  "vscode": {
   "interpreter": {
    "hash": "89957a983993c4a9c144f61af9c076707dd02d3d0f57463a5cf1f28e6923b25d"
   }
  }
 },
 "nbformat": 4,
 "nbformat_minor": 5
}
