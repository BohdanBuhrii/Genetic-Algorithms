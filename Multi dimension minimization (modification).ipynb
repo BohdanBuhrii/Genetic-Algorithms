{
 "cells": [
  {
   "cell_type": "code",
   "execution_count": 1,
   "metadata": {},
   "outputs": [],
   "source": [
    "import numpy as np\n",
    "from bitarray.util import int2ba, ba2int"
   ]
  },
  {
   "cell_type": "code",
   "execution_count": 2,
   "metadata": {},
   "outputs": [],
   "source": [
    "from ga.fabrics import BinaryFabric\n",
    "from ga.operators import BinaryOperator\n",
    "from ga.transformers import MultiDimentionTransformer\n",
    "\n",
    "from ga.evaluators import MinimumEvaluator\n",
    "from ga.cultivators import TournamentCultivator, SmartWieghtCultivator, EliteCultivator\n",
    "from ga.algorithms import SimpleGA\n",
    "\n",
    "from helpers.plotting import plotContour, plotScores"
   ]
  },
  {
   "cell_type": "markdown",
   "metadata": {},
   "source": [
    "$$\n",
    "f\\left(x_{1}, x_{2}\\right)=\\sin \\left(10 x_{1}\\right)+x_{1} \\cos \\left(2 \\pi x_{2}\\right)\n",
    "$$"
   ]
  },
  {
   "cell_type": "markdown",
   "metadata": {},
   "source": [
    "$$\n",
    "x_{1} \\in[-2,2], x_{2} \\in[0,1]\n",
    "$$"
   ]
  },
  {
   "cell_type": "markdown",
   "metadata": {},
   "source": [
    "$$f \\to min $$"
   ]
  },
  {
   "cell_type": "code",
   "execution_count": 3,
   "metadata": {},
   "outputs": [],
   "source": [
    "f = lambda x: np.sin(10*x[0]) + x[0]*np.cos(2*np.pi*x[1])\n",
    "\n",
    "x1_int = [-2, 2]\n",
    "x2_int = [0.2, 0.8]\n",
    "\n",
    "x_ints = [x1_int, x2_int]"
   ]
  },
  {
   "cell_type": "code",
   "execution_count": 4,
   "metadata": {},
   "outputs": [],
   "source": [
    "h_x1 = 1e-7\n",
    "h_x2 = 1e-5\n",
    "\n",
    "n_x1 = len(int2ba(int((x1_int[1] - x1_int[0])/h_x1)))\n",
    "n_x2 = len(int2ba(int((x2_int[1] - x2_int[0])/h_x2)))\n",
    "\n",
    "n_xs = [n_x1, n_x2]\n",
    "\n",
    "n = sum(n_xs)"
   ]
  },
  {
   "cell_type": "code",
   "execution_count": 5,
   "metadata": {},
   "outputs": [
    {
     "data": {
      "text/plain": [
       "[26, 16]"
      ]
     },
     "execution_count": 5,
     "metadata": {},
     "output_type": "execute_result"
    }
   ],
   "source": [
    "n_xs"
   ]
  },
  {
   "cell_type": "code",
   "execution_count": 6,
   "metadata": {},
   "outputs": [],
   "source": [
    "N = 100\n",
    "max_iterations = 100\n",
    "max_iterations_without_evolution = 40\n",
    "p_mutate = 0.6\n",
    "p_cross = 0.8\n",
    "p_elite = 0.05\n",
    "N_t = 5\n",
    "selection_pressure = 1e-8"
   ]
  },
  {
   "cell_type": "code",
   "execution_count": 7,
   "metadata": {},
   "outputs": [],
   "source": [
    "fabric = BinaryFabric(n)\n",
    "operator = BinaryOperator(n)\n",
    "transformer = MultiDimentionTransformer(n_xs, x_ints)\n",
    "evaluator = MinimumEvaluator(f, transformer)\n",
    "\n",
    "tCultivator = TournamentCultivator(N_t, p_mutate, p_cross, operator, evaluator)\n",
    "sCultivator = SmartWieghtCultivator(N_t, p_mutate, p_cross, operator, evaluator, selection_pressure)\n",
    "\n",
    "eCultivator = EliteCultivator(sCultivator, p_elite)\n",
    "\n",
    "ga = SimpleGA(fabric, evaluator, transformer, eCultivator)"
   ]
  },
  {
   "cell_type": "code",
   "execution_count": 8,
   "metadata": {},
   "outputs": [
    {
     "name": "stdout",
     "output_type": "stream",
     "text": [
      "0%\n",
      "10%\n",
      "20%\n",
      "30%\n"
     ]
    },
    {
     "data": {
      "text/plain": [
       "([-2.0, 0.2], -1.5309792394775226)"
      ]
     },
     "execution_count": 8,
     "metadata": {},
     "output_type": "execute_result"
    }
   ],
   "source": [
    "ga.solve(N, max_iterations, max_iterations_without_evolution)"
   ]
  },
  {
   "cell_type": "code",
   "execution_count": 9,
   "metadata": {},
   "outputs": [
    {
     "data": {
      "image/png": "[encoded data removed]",
      "text/plain": [
       "<Figure size 504x288 with 2 Axes>"
      ]
     },
     "metadata": {
      "needs_background": "light"
     },
     "output_type": "display_data"
    },
    {
     "data": {
      "image/png": "[encoded data removed]",
      "text/plain": [
       "<Figure size 432x288 with 1 Axes>"
      ]
     },
     "metadata": {
      "needs_background": "light"
     },
     "output_type": "display_data"
    }
   ],
   "source": [
    "plotContour(lambda x1, x2: f([x1, x2]), x1_int, x2_int, argmin=ga.solution)\n",
    "\n",
    "plotScores(ga.scores)"
   ]
  },
  {
   "cell_type": "code",
   "execution_count": 10,
   "metadata": {},
   "outputs": [
    {
     "data": {
      "text/plain": [
       "[bitarray('000000000000000000000000000000000000000000'),\n",
       " bitarray('000000000000000000000000000000000000000000'),\n",
       " bitarray('000000000000000000000000000000000000000000'),\n",
       " bitarray('000000000000000000000000000000000000000000'),\n",
       " bitarray('000000000000000000000000000000000000000000'),\n",
       " bitarray('000000000000000000000000000000000000000000'),\n",
       " bitarray('000000000000000000000000000000000000000000'),\n",
       " bitarray('000000000000000000000000000000000000000000'),\n",
       " bitarray('000000000000000000000000000000000000000000'),\n",
       " bitarray('000000000000000000000000000000000000000000'),\n",
       " bitarray('000000000000000000000000000000000000000000'),\n",
       " bitarray('000000000000000000000000000000000000000000'),\n",
       " bitarray('000000000000000000000000000000000000000000'),\n",
       " bitarray('000000000000000000000000000000000000000000'),\n",
       " bitarray('000000000000000000000000000000000000000000'),\n",
       " bitarray('000000000000000000000000000000000000000000'),\n",
       " bitarray('000000000000000000000000000000000000000000'),\n",
       " bitarray('000000000000000000000000000000000000000000'),\n",
       " bitarray('000000000000000000000000000000000000000000'),\n",
       " bitarray('000000000000000000000000000000000000000000'),\n",
       " bitarray('000000000000000000000000000000000000000000'),\n",
       " bitarray('000000000000000000000000000000000000000000'),\n",
       " bitarray('000000000000000000000000000000000000000000'),\n",
       " bitarray('000000000000000000000000000000000000000000'),\n",
       " bitarray('000000000000000000000000000000000000000000'),\n",
       " bitarray('000000000000000000000000000000000000000000'),\n",
       " bitarray('000000000000000000000000000000000000000000'),\n",
       " bitarray('000000000000000000000000000000000000000000'),\n",
       " bitarray('000000000000000000000000000000000000000000'),\n",
       " bitarray('000000000000000000000000000000000000000000'),\n",
       " bitarray('000000000000000000000000000000000000000000'),\n",
       " bitarray('000000000000000000000000000000000000000000'),\n",
       " bitarray('000000000000000000000000000000000000000000'),\n",
       " bitarray('000000000000000000000000000000000000000000'),\n",
       " bitarray('000000000000000000000000000000000000000000'),\n",
       " bitarray('000000000000000000000000000000000000000000'),\n",
       " bitarray('000000000000000000000000000000000000000000'),\n",
       " bitarray('000000000000000000000000000000000000000000'),\n",
       " bitarray('000000000000000000000000000000000000000000'),\n",
       " bitarray('000000000000000000000000000000000000000000')]"
      ]
     },
     "execution_count": 10,
     "metadata": {},
     "output_type": "execute_result"
    }
   ],
   "source": [
    "ga.best_from_populations"
   ]
  },
  {
   "cell_type": "code",
   "execution_count": null,
   "metadata": {},
   "outputs": [],
   "source": []
  }
 ],
 "metadata": {
  "kernelspec": {
   "display_name": "Python 3",
   "language": "python",
   "name": "python3"
  },
  "language_info": {
   "codemirror_mode": {
    "name": "ipython",
    "version": 3
   },
   "file_extension": ".py",
   "mimetype": "text/x-python",
   "name": "python",
   "nbconvert_exporter": "python",
   "pygments_lexer": "ipython3",
   "version": "3.8.2"
  }
 },
 "nbformat": 4,
 "nbformat_minor": 4
}
